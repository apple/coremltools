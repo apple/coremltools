{
 "cells": [
  {
   "cell_type": "markdown",
   "metadata": {},
   "source": [
    "### Custom operator\n",
    "\n",
    "Custom operator allows developers to override or run un-supported operators with their custom implementation in swift.\n",
    "\n",
    "#### When shall I need to use Custom operators?\n",
    "1. My TensorFlow/PyTorch model has an operator which is not supported by converter\n",
    "2. My use-case is special and require different behavior compared to default one\n",
    "\n",
    "#### Composite operators and Custom operators\n",
    "- Composite operators are subset of Custom operators\n",
    "- Composite operators are frontend specific and uses CoreML builder APIs to \n",
    "  inserts runtime supported operators\n",
    "- Whereas, Custom operators allows one to write their own implementation that will\n",
    "  be invoked during runtime\n",
    "\n",
    "#### When to use Custom operator over Composite operator\n",
    "- Operator is not supported by runtime\n",
    "- Can provide efficient implementation and would like to benefit from it\n",
    "- Operator is complex and difficult to implement with CoreML builder API\n",
    "  e.g. Convolution, LSTM\n",
    "- Implementing via Composite operator is not performant\n",
    "  e.g. with custom implementation can have one operator instead of with\n",
    "  Composite operator having multiple operator and can write an effiencient\n",
    "  implementation"
   ]
  },
  {
   "cell_type": "code",
   "execution_count": 1,
   "metadata": {},
   "outputs": [
    {
     "name": "stderr",
     "output_type": "stream",
     "text": [
      "WARNING:root:TensorFlow version 1.15.0 detected. Last version known to be fully compatible is 1.14.0 .\n"
     ]
    }
   ],
   "source": [
    "import coremltools\n",
    "import tensorflow as tf\n",
    "import coremltools.converters.nnv2.converter as converter\n",
    "from coremltools.models.neural_network.printer import print_network_spec\n",
    "from _tf_utils import *"
   ]
  },
  {
   "cell_type": "code",
   "execution_count": null,
   "metadata": {},
   "outputs": [],
   "source": [
    "from packaging import version\n",
    "assert version.parse(tf.__version__).major < 2, \"Following tutorial does not work for TF 2.0\""
   ]
  },
  {
   "cell_type": "code",
   "execution_count": 2,
   "metadata": {},
   "outputs": [],
   "source": [
    "from coremltools.converters.nnv2.frontend.tensorflow.tf_op_registry import register_tf_op\n",
    "from coremltools.converters.nnv2.nnv2_program.ops import CoremlBuilder as cb\n",
    "from coremltools.converters.nnv2.nnv2_program.ops.defs._op_reqs import *\n",
    "from coremltools.converters.nnv2.builtin_types.symbolic import is_symbolic"
   ]
  },
  {
   "cell_type": "code",
   "execution_count": 3,
   "metadata": {},
   "outputs": [],
   "source": [
    "# If custom implementation is required\n",
    "# Following specification is required to bind custom operator to custom layer\n",
    "# implementation\n",
    "\n",
    "# What all should be specified in following specification\n",
    "# 1. is_custom_op should be set to True while registering op\n",
    "# 2. bindings should be provided as part of the operator class\n",
    "#    with following information:\n",
    "#    a) class_name: Name of the class (Interface name of custom layer implementation)\n",
    "#    b) input_order: Inpur order from above named input being used in custom implementation.\n",
    "#                    Inputs will be packed as a List of Multi-Array and pass in this order.\n",
    "#    c) parameters: Parameters that should be passed as operator attributes and known.\n",
    "#    d) description: Short description of current operator\n",
    "\n",
    "# Defining SSA TopK Op\n",
    "@register_op(doc_str='Custom TopK Layer', is_custom_op=True)\n",
    "class custom_topk(Operation):\n",
    "    input_spec = InputSpec(\n",
    "             x = TensorInputType(),\n",
    "             k = IntInputType(const=True, default=1),\n",
    "          axis = IntInputType(const=True, default=-1),\n",
    "        sorted = BoolInputType(const=True, default=False),\n",
    "    )\n",
    "\n",
    "    bindings = { 'class_name'  : 'CustomTopK',\n",
    "                 'input_order' : ['x'],\n",
    "                 'parameters'  : ['k', 'axis', 'sorted'],\n",
    "                 'description' : \"Top K Custom layer\"\n",
    "                }\n",
    "\n",
    "    def __init__(self, **kwargs):\n",
    "        super(custom_topk, self).__init__(**kwargs)\n",
    "\n",
    "    def type_inference(self):\n",
    "        x_type = self.x.dtype\n",
    "        x_shape = self.x.shape\n",
    "        k = self.k.val\n",
    "        axis = self.axis.val\n",
    "\n",
    "        if not is_symbolic(x_shape[axis]) and k > x_shape[axis]:\n",
    "            msg = 'K={} is greater than size of the given axis={}'\n",
    "            raise ValueError(msg.format(k, axis))\n",
    "\n",
    "        ret_shape = list(x_shape)\n",
    "        ret_shape[axis] = k\n",
    "        return builtins.tensor(x_type, ret_shape), builtins.tensor(builtins.int32, ret_shape)"
   ]
  },
  {
   "cell_type": "code",
   "execution_count": 4,
   "metadata": {},
   "outputs": [],
   "source": [
    "# Override TopK op with override=True flag\n",
    "@register_tf_op(tf_alias=['TopKV2'], override=True)\n",
    "def CustomTopK(context, node):\n",
    "    x = context[node.inputs[0]]\n",
    "    k = context[node.inputs[1]]\n",
    "    sorted = node.attr.get('sorted', False)\n",
    "    x = cb.custom_topk(x=x, k=k.val, axis=-1, sorted=sorted, name=node.name)\n",
    "    context.add(node.name, x)"
   ]
  },
  {
   "cell_type": "code",
   "execution_count": 5,
   "metadata": {},
   "outputs": [],
   "source": [
    "def test_custom_topk_op_conversion(rank, k):\n",
    "    shape = np.random.randint(low=3, high=6, size=rank)\n",
    "    input = np.random.rand(*shape)\n",
    "    with tf.Graph().as_default() as graph:\n",
    "        x = tf.placeholder(tf.float32, shape=shape)\n",
    "        ref = tf.math.top_k(x, k=k, sorted=True)\n",
    "        ref = (ref[0], ref[1])\n",
    "\n",
    "        spec = convert_tf1(graph, {x: input}, ref)\n",
    "        # Validate custom layer is added\n",
    "        layers = spec.neuralNetwork.layers\n",
    "        assert layers[-1].custom is not None, \"Expecting a custom layer\"\n",
    "        assert 'CustomTopK' == layers[-1].custom.className, \"Custom Layer class name mis-match\"\n",
    "        assert k == layers[-1].custom.parameters['k'].intValue, \"Incorrect parameter value k\"\n",
    "        assert True == layers[-1].custom.parameters['sorted'].boolValue, \"Incorrect parameter value for Sorted\"\n",
    "        print(\"Model converted successfully with custom layer `CustomTopK`\")\n",
    "        print(\"Please make sure Swift/Objective-C implemenetation of `CustomTopK` is in scope while building your app!!\\n\")\n",
    "        print(\"Following you converted model:\\n\")\n",
    "        print_network_spec(spec, style='coding')"
   ]
  },
  {
   "cell_type": "code",
   "execution_count": 6,
   "metadata": {},
   "outputs": [
    {
     "name": "stderr",
     "output_type": "stream",
     "text": [
      "WARNING:root:Output var TopKV2:1 of type i32 in function main is cast to type fp32\n"
     ]
    },
    {
     "name": "stdout",
     "output_type": "stream",
     "text": [
      "Model converted successfully with custom layer `CustomTopK`\n",
      "Please make sure Swift/Objective-C implemenetation of `CustomTopK` is in scope while building your app!!\n",
      "\n",
      "Following you converted model:\n",
      "\n",
      "Inputs:\n",
      "  Placeholder [5, 5, 4, 3]\n",
      "Outputs:\n",
      "  TopKV2:0 []\n",
      "  TopKV2:1 []\n",
      "\n",
      "\n",
      "def model(Placeholder):\n",
      "\tTopKV2:0, TopKV2:1 =\u001b[91m custom\u001b[00m\u001b[94m (Placeholder)\u001b[00m\n",
      "\u001b[91m \n",
      "\treturn \u001b[00mTopKV2:0, TopKV2:1\n"
     ]
    }
   ],
   "source": [
    "test_custom_topk_op_conversion(4, 2)"
   ]
  }
 ],
 "metadata": {
  "kernelspec": {
   "display_name": "Python 3",
   "language": "python",
   "name": "python3"
  },
  "language_info": {
   "codemirror_mode": {
    "name": "ipython",
    "version": 3
   },
   "file_extension": ".py",
   "mimetype": "text/x-python",
   "name": "python",
   "nbconvert_exporter": "python",
   "pygments_lexer": "ipython3",
   "version": "3.7.0"
  }
 },
 "nbformat": 4,
 "nbformat_minor": 4
}
