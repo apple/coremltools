{
 "cells": [
  {
   "cell_type": "markdown",
   "metadata": {},
   "source": [
    "### Composite operator\n",
    "\n",
    "If an op in TF/pytorch can be expressed as a combination of existing ops in CoreML, the model can be converted with just a few lines of extra code, as shown in this example.\n",
    "In this case using the Core ML custom layer functionality is not required, which involves coding up the actual implementation of the operation in swift.\n",
    "\n",
    "#### When shall I need to use Composite operators?\n",
    "1. My TensorFlow/PyTorch model has an operator which is not supported by converter natively (i.e. 1:1 mapping not present)\n",
    "2. My use-case is special and require different behavior compared to default one\n",
    "\n",
    "\n",
    "#### When to use Composite operators over Custom operators?\n",
    "- Use Composite operators when you can represent your operator using\n",
    "  existing CoreML builder API(SSA operators)\n",
    "- Override behavior of existing operator completely or partially\n",
    "- Improve performance with some known information for given operator\n",
    "- Faster than Custom operator path\n",
    "   - No need to implement Custom implementation"
   ]
  },
  {
   "cell_type": "code",
   "execution_count": 1,
   "metadata": {},
   "outputs": [
    {
     "name": "stderr",
     "output_type": "stream",
     "text": [
      "WARNING:root:TensorFlow version 2.1.0 detected. Last version known to be fully compatible is 1.14.0 .\n"
     ]
    }
   ],
   "source": [
    "import coremltools\n",
    "import numpy as np\n",
    "import tensorflow as tf\n",
    "from _tf_utils import *\n",
    "from coremltools.models.neural_network.printer import print_network_spec"
   ]
  },
  {
   "cell_type": "code",
   "execution_count": 2,
   "metadata": {},
   "outputs": [],
   "source": [
    "from packaging import version\n",
    "assert version.parse(tf.__version__).major >= 2, \"Requires TF 2.0 and above for this tutorial\""
   ]
  },
  {
   "cell_type": "code",
   "execution_count": 3,
   "metadata": {},
   "outputs": [],
   "source": [
    "from coremltools.converters.nnv2.frontend.tensorflow.tf_op_registry import register_tf_op\n",
    "from coremltools.converters.nnv2.nnv2_program.ops import CoremlBuilder as cb"
   ]
  },
  {
   "cell_type": "code",
   "execution_count": 4,
   "metadata": {},
   "outputs": [],
   "source": [
    "input_shape = np.random.randint(low=1, high=6, size=4)\n",
    "@make_tf2_graph({'x': input_shape})\n",
    "def build_model(x):\n",
    "    return tf.keras.activations.selu(x)\n",
    "\n",
    "model, inputs, outputs = build_model\n",
    "_input = np.random.randn(*input_shape).astype(np.float32)\n",
    "input_values = [_input]\n",
    "input_dict = dict(zip(inputs, input_values))"
   ]
  },
  {
   "cell_type": "code",
   "execution_count": 5,
   "metadata": {},
   "outputs": [],
   "source": [
    "# Register TF Selu activation function\n",
    "# More options:\n",
    "# 1. tf_alias: list of ops to map to this function\n",
    "# 2. override: If true, overrides existing implementation with current\n",
    "@register_tf_op(override=True)\n",
    "def Selu(context, node):\n",
    "    x = context[node.inputs[0]]\n",
    "    alpha = 1.6732631921768188\n",
    "    lamda = 1.0507010221481323\n",
    "    out_elu = cb.elu(x=x, alpha=alpha)\n",
    "    out = cb.mul(x=out_elu, y=lamda, name=node.name)\n",
    "    context.add(node.name, out)"
   ]
  },
  {
   "cell_type": "code",
   "execution_count": 6,
   "metadata": {},
   "outputs": [
    {
     "name": "stderr",
     "output_type": "stream",
     "text": [
      "/Volumes/Common/work/CoreML/coreml/coremltools/coremltools/converters/nnv2/builtin_types/builtins/type_mapping.py:73: FutureWarning: Conversion of the second argument of issubdtype from `float` to `np.floating` is deprecated. In future, it will be treated as `np.float64 == np.dtype(float).type`.\n",
      "  if np.issubdtype(nptype1, np.float) and np.issubdtype(nptype2, np.int):\n",
      "/Volumes/Common/work/CoreML/coreml/coremltools/coremltools/converters/nnv2/builtin_types/builtins/type_mapping.py:73: FutureWarning: Conversion of the second argument of issubdtype from `int` to `np.signedinteger` is deprecated. In future, it will be treated as `np.int64 == np.dtype(int).type`.\n",
      "  if np.issubdtype(nptype1, np.float) and np.issubdtype(nptype2, np.int):\n",
      "/Volumes/Common/work/CoreML/coreml/coremltools/coremltools/converters/nnv2/builtin_types/builtins/type_mapping.py:75: FutureWarning: Conversion of the second argument of issubdtype from `float` to `np.floating` is deprecated. In future, it will be treated as `np.float64 == np.dtype(float).type`.\n",
      "  elif np.issubdtype(nptype2, np.float) and np.issubdtype(nptype1, np.int):\n",
      "/Volumes/Common/work/CoreML/coreml/coremltools/coremltools/converters/nnv2/builtin_types/builtins/type_mapping.py:75: FutureWarning: Conversion of the second argument of issubdtype from `int` to `np.signedinteger` is deprecated. In future, it will be treated as `np.int64 == np.dtype(int).type`.\n",
      "  elif np.issubdtype(nptype2, np.float) and np.issubdtype(nptype1, np.int):\n"
     ]
    }
   ],
   "source": [
    "# New defined Selu will be picked\n",
    "spec = convert_tf2(model, outputs)"
   ]
  },
  {
   "cell_type": "code",
   "execution_count": 7,
   "metadata": {},
   "outputs": [
    {
     "name": "stdout",
     "output_type": "stream",
     "text": [
      "Converted mlmodel:\n",
      "\n",
      "Inputs:\n",
      "  x [1, 3, 2, 4]\n",
      "Outputs:\n",
      "  Identity []\n",
      "\n",
      "\n",
      "def model(x):\n",
      "\telu_0 =\u001b[91m activation\u001b[00m\u001b[94m (x)\u001b[00m\n",
      "\tSelu =\u001b[91m multiply\u001b[00m\u001b[94m (elu_0)\u001b[00m\n",
      "\tIdentity =\u001b[91m multiply\u001b[00m\u001b[94m (Selu)\u001b[00m\n",
      "\u001b[91m \n",
      "\treturn \u001b[00mIdentity\n"
     ]
    }
   ],
   "source": [
    "print(\"Converted mlmodel:\\n\")\n",
    "print_network_spec(spec, style='coding')"
   ]
  },
  {
   "cell_type": "code",
   "execution_count": 8,
   "metadata": {},
   "outputs": [
    {
     "name": "stdout",
     "output_type": "stream",
     "text": [
      "Output match!\n"
     ]
    }
   ],
   "source": [
    "compare_results(spec, model, input_dict, outputs)"
   ]
  }
 ],
 "metadata": {
  "kernelspec": {
   "display_name": "Python 3",
   "language": "python",
   "name": "python3"
  },
  "language_info": {
   "codemirror_mode": {
    "name": "ipython",
    "version": 3
   },
   "file_extension": ".py",
   "mimetype": "text/x-python",
   "name": "python",
   "nbconvert_exporter": "python",
   "pygments_lexer": "ipython3",
   "version": "3.7.0"
  }
 },
 "nbformat": 4,
 "nbformat_minor": 4
}
