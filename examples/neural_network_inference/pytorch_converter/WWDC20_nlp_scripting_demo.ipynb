{
 "cells": [
  {
   "cell_type": "markdown",
   "metadata": {},
   "source": [
    "# Converting a Language Model via Core ML\n"
   ]
  },
  {
   "cell_type": "markdown",
   "metadata": {},
   "source": [
    "### Imports"
   ]
  },
  {
   "cell_type": "code",
   "execution_count": 6,
   "metadata": {
    "scrolled": true
   },
   "outputs": [],
   "source": [
    "import warnings\n",
    "warnings.simplefilter(action='ignore', category=FutureWarning)\n",
    "import torch\n",
    "import numpy as np\n",
    "from transformers import GPT2LMHeadModel, GPT2Tokenizer\n",
    "from coremltools.models import MLModel\n",
    "from coremltools.converters import convert"
   ]
  },
  {
   "cell_type": "markdown",
   "metadata": {},
   "source": [
    "### Model"
   ]
  },
  {
   "cell_type": "code",
   "execution_count": 8,
   "metadata": {},
   "outputs": [],
   "source": [
    "class FinishMySentence(torch.nn.Module):\n",
    "    def __init__(self, model=None, eos=198):\n",
    "        super(FinishMySentence, self).__init__()\n",
    "        self.eos = torch.tensor([eos])\n",
    "        self.predict = model\n",
    "\n",
    "    def forward(self, x):\n",
    "        generated = x\n",
    "        token = torch.tensor([0])\n",
    "        while token != self.eos:\n",
    "            predictions, _ = self.predict(generated)\n",
    "            token = torch.argmax(predictions[-1, :], dim=0, keepdim=True)\n",
    "            generated = torch.cat((generated, token), 0)\n",
    "        return generated"
   ]
  },
  {
   "cell_type": "markdown",
   "metadata": {},
   "source": [
    "### Initialize the Token Predictor"
   ]
  },
  {
   "cell_type": "code",
   "execution_count": 14,
   "metadata": {
    "scrolled": true
   },
   "outputs": [],
   "source": [
    "token_predictor = GPT2LMHeadModel.from_pretrained(\"gpt2\", torchscript=True).eval()"
   ]
  },
  {
   "cell_type": "markdown",
   "metadata": {},
   "source": [
    "### Trace the Token Predictor"
   ]
  },
  {
   "cell_type": "code",
   "execution_count": 15,
   "metadata": {},
   "outputs": [],
   "source": [
    "random_tokens = torch.randint(10000, (5,))\n",
    "\n",
    "traced_token_predictor = torch.jit.trace(token_predictor, random_tokens)"
   ]
  },
  {
   "cell_type": "markdown",
   "metadata": {},
   "source": [
    "### Script the Outer Loop"
   ]
  },
  {
   "cell_type": "code",
   "execution_count": 16,
   "metadata": {},
   "outputs": [],
   "source": [
    "model = FinishMySentence(model=traced_token_predictor)\n",
    "scripted_model = torch.jit.script(model)"
   ]
  },
  {
   "cell_type": "markdown",
   "metadata": {},
   "source": [
    "### Convert to Core ML"
   ]
  },
  {
   "cell_type": "code",
   "execution_count": null,
   "metadata": {},
   "outputs": [],
   "source": [
    "# FIXME\n",
    "#mlmodel = convert(\n",
    "#    scripted_model,\n",
    "#    inputs=[random_tokens],\n",
    "#)"
   ]
  },
  {
   "cell_type": "markdown",
   "metadata": {},
   "source": [
    "### Encode the Sentence Fragment"
   ]
  },
  {
   "cell_type": "code",
   "execution_count": 17,
   "metadata": {},
   "outputs": [],
   "source": [
    "sentence_fragment = \"The Manhattan bridge is\"\n",
    "\n",
    "tokenizer = GPT2Tokenizer.from_pretrained(\"gpt2\")\n",
    "context = torch.tensor(tokenizer.encode(sentence_fragment))"
   ]
  },
  {
   "cell_type": "markdown",
   "metadata": {},
   "source": [
    "### Run the Model"
   ]
  },
  {
   "cell_type": "code",
   "execution_count": 18,
   "metadata": {},
   "outputs": [
    {
     "output_type": "stream",
     "name": "stdout",
     "text": "The Manhattan bridge is a major artery for the city's subway system, and the bridge is one of the busiest in the country.\n\n"
    }
   ],
   "source": [
    "# FIXME\n",
    "#coreml_inputs = {\"context\": context.numpy()}\n",
    "#prediction_dict = mlmodel.predict(coreml_inputs)\n",
    "#generated_tensor = prediction_dict[\"generated\"]\n",
    "#generated_text = tokenizer.decode(generated_tensor)\n",
    "#print(generated_text)\n",
    "\n",
    "generated_tensor = scripted_model(context)\n",
    "generated_text = tokenizer.decode(generated_tensor)\n",
    "print(generated_text)"
   ]
  }
 ],
 "metadata": {
  "kernelspec": {
   "display_name": "Python 3",
   "language": "python",
   "name": "python3"
  },
  "language_info": {
   "codemirror_mode": {
    "name": "ipython",
    "version": 3
   },
   "file_extension": ".py",
   "mimetype": "text/x-python",
   "name": "python",
   "nbconvert_exporter": "python",
   "pygments_lexer": "ipython3",
   "version": "3.7.4-final"
  }
 },
 "nbformat": 4,
 "nbformat_minor": 4
}